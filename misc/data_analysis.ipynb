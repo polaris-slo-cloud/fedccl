{
 "cells": [
  {
   "cell_type": "code",
   "execution_count": 23,
   "metadata": {},
   "outputs": [],
   "source": [
    "import pandas as pd\n",
    "import matplotlib.pyplot as plt\n",
    "from sklearn.preprocessing import MinMaxScaler"
   ]
  },
  {
   "cell_type": "code",
   "execution_count": 26,
   "metadata": {},
   "outputs": [],
   "source": [
    "SITE_ID = \"site_00XX\"\n",
    "\n",
    "power_production_data = pd.read_csv(f'../data/test_data/{SITE_ID}/POWER_PRODUCTION.csv')\n",
    "power_production_data['time'] = pd.to_datetime(power_production_data['time'])"
   ]
  },
  {
   "cell_type": "code",
   "execution_count": null,
   "metadata": {},
   "outputs": [],
   "source": [
    "# Group by 'site_id' and week of 'time' column\n",
    "grouped = power_production_data.groupby([pd.Grouper(key='time', freq='d'), 'site_id'])\n",
    "\n",
    "scaler = MinMaxScaler()\n",
    "\n",
    "for (week, site_id), group in grouped:\n",
    "    normalized_group = pd.DataFrame(scaler.fit_transform(group[['avg', 'solar_rad', 'temp', 'precip', 'ghi', 'snow_depth']]), \n",
    "                                    columns=['avg', 'solar_rad', 'temp', 'precip', 'ghi', 'snow_depth'], \n",
    "                                    index=group.index)\n",
    "    \n",
    "    plt.figure(figsize=(10, 6))  # Set figure size to make it wider\n",
    "    plt.plot(normalized_group.index, normalized_group['avg'], label='Avg')\n",
    "    plt.plot(normalized_group.index, normalized_group['solar_rad'], label='solar_rad')\n",
    "    plt.plot(normalized_group.index, normalized_group['temp'], label='temp')\n",
    "    plt.plot(normalized_group.index, normalized_group['precip'], label='precip')\n",
    "    plt.plot(normalized_group.index, normalized_group['ghi'], label='ghi')\n",
    "    plt.plot(normalized_group.index, normalized_group['snow_depth'], label='snow_depth')\n",
    "    plt.title(f\"Week {week} - Site {site_id}\")\n",
    "    plt.xlabel('Time')\n",
    "    plt.ylabel('Normalized Power Values')\n",
    "    plt.xticks(rotation=45)\n",
    "    plt.tight_layout()\n",
    "    plt.legend()\n",
    "    plt.show()"
   ]
  },
  {
   "cell_type": "code",
   "execution_count": null,
   "metadata": {},
   "outputs": [],
   "source": [
    "# Group by 'site_id' and week of 'time' column\n",
    "grouped = power_production_data.groupby([pd.Grouper(key='time', freq='d'), 'site_id'])\n",
    "\n",
    "# Iterate through each group and plot actual and predicted values\n",
    "for (week, site_id), group in grouped:\n",
    "    plt.figure(figsize=(10, 6))\n",
    "    # 'avg', 'solar_rad', 'temp', 'precip', 'rh', 'ghi'\n",
    "    plt.plot(group['time'], group['avg'], label='Avg')\n",
    "    plt.plot(group['time'], group['solar_rad'], label='solar_rad')\n",
    "    plt.plot(group['time'], group['temp'], label='temp')\n",
    "    plt.plot(group['time'], group['precip'], label='precip')\n",
    "    # plt.plot(group['time'], group['rh'], label='rh')\n",
    "    plt.plot(group['time'], group['ghi'], label='ghi')\n",
    "    plt.plot(group['time'], group['snow_depth'], label='snow_depth')\n",
    "    plt.title(f\"Week {week} - Site {site_id}\")\n",
    "    plt.xlabel('Time')\n",
    "    plt.ylabel('Power Values')\n",
    "    plt.xticks(rotation=45)\n",
    "    plt.tight_layout()\n",
    "    plt.legend()\n",
    "    plt.show()"
   ]
  }
 ],
 "metadata": {
  "kernelspec": {
   "display_name": "Python 3",
   "language": "python",
   "name": "python3"
  },
  "language_info": {
   "codemirror_mode": {
    "name": "ipython",
    "version": 3
   },
   "file_extension": ".py",
   "mimetype": "text/x-python",
   "name": "python",
   "nbconvert_exporter": "python",
   "pygments_lexer": "ipython3",
   "version": "3.13.0"
  }
 },
 "nbformat": 4,
 "nbformat_minor": 2
}
